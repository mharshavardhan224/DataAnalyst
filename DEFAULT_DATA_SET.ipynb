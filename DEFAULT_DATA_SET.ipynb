{
  "nbformat": 4,
  "nbformat_minor": 0,
  "metadata": {
    "colab": {
      "provenance": [],
      "authorship_tag": "ABX9TyN+9LQX2xEPi55cTjl08X44",
      "include_colab_link": true
    },
    "kernelspec": {
      "name": "python3",
      "display_name": "Python 3"
    },
    "language_info": {
      "name": "python"
    }
  },
  "cells": [
    {
      "cell_type": "markdown",
      "metadata": {
        "id": "view-in-github",
        "colab_type": "text"
      },
      "source": [
        "<a href=\"https://colab.research.google.com/github/mharshavardhan224/DataAnalyst/blob/main/DEFAULT_DATA_SET.ipynb\" target=\"_parent\"><img src=\"https://colab.research.google.com/assets/colab-badge.svg\" alt=\"Open In Colab\"/></a>"
      ]
    },
    {
      "cell_type": "code",
      "execution_count": null,
      "metadata": {
        "colab": {
          "base_uri": "https://localhost:8080/"
        },
        "id": "SCLChDiulJ9Q",
        "outputId": "e5a46d42-5ffb-4f9b-9cda-b9a81a8c309d"
      },
      "outputs": [
        {
          "output_type": "stream",
          "name": "stdout",
          "text": [
            "Original Dataset:\n",
            "         Name   Age   Salary Department\n",
            "0     Harsha  21.0   7500.0         HR\n",
            "1      Mouli   NaN   7500.0         IT\n",
            "2        Sai  20.0      NaN         IT\n",
            "3    Krishna  22.0   7500.0       None\n",
            "4       Teja  25.0   7500.0    Finance\n",
            "5     shannu   NaN  15000.0         TL\n",
            "6   jayaraju   NaN      NaN    Editing\n",
            "7     vishnu  10.0  15000.0       None\n",
            "8      jnane   NaN  45000.0    Editing\n",
            "9     IPLsai  33.0      NaN         IT\n",
            "10     Monoj  34.0  30000.0    Finance\n",
            "        Name   Age   Salary Department\n",
            "0     Harsha  21.0   7500.0         HR\n",
            "1      Mouli   NaN   7500.0         IT\n",
            "2        Sai  20.0      NaN         IT\n",
            "3    Krishna  22.0   7500.0       None\n",
            "4       Teja  25.0   7500.0    Finance\n",
            "5     shannu   NaN  15000.0         TL\n",
            "6   jayaraju   NaN      NaN    Editing\n",
            "7     vishnu  10.0  15000.0       None\n",
            "8      jnane   NaN  45000.0    Editing\n",
            "9     IPLsai  33.0      NaN         IT\n",
            "10     Monoj  34.0  30000.0    Finance\n"
          ]
        }
      ],
      "source": [
        "import pandas as pd\n",
        "import numpy as np\n",
        "\n",
        "# Sample dataset with null values\n",
        "data = {\n",
        "    'Name': ['Harsha', 'Mouli', 'Sai', 'Krishna', 'Teja','shannu','jayaraju','vishnu','jnane','IPLsai','Monoj',],\n",
        "    'Age': [21, None, 20, 22, 25, None, None, 10, None, 33, 34,],\n",
        "    'Salary': [7500, 7500, None, 7500, 7500, 15000, None,15000,45000,None,30000,],\n",
        "    'Department': ['HR', 'IT', 'IT', None, 'Finance','TL','Editing',None,'Editing','IT','Finance',],\n",
        "}\n",
        "\n",
        "df = pd.DataFrame(data)\n",
        "print(\"Original Dataset:\\n\", df)\n",
        "print(df)"
      ]
    },
    {
      "cell_type": "code",
      "source": [],
      "metadata": {
        "id": "kTRCxKCHy4MX"
      },
      "execution_count": null,
      "outputs": []
    },
    {
      "cell_type": "code",
      "source": [
        "df.isnull().sum()"
      ],
      "metadata": {
        "colab": {
          "base_uri": "https://localhost:8080/",
          "height": 209
        },
        "id": "V676oYXKwSIq",
        "outputId": "2aabc6ac-fce4-4893-f713-f20bf5bc4453"
      },
      "execution_count": null,
      "outputs": [
        {
          "output_type": "execute_result",
          "data": {
            "text/plain": [
              "Name          0\n",
              "Age           4\n",
              "Salary        3\n",
              "Department    2\n",
              "dtype: int64"
            ],
            "text/html": [
              "<div>\n",
              "<style scoped>\n",
              "    .dataframe tbody tr th:only-of-type {\n",
              "        vertical-align: middle;\n",
              "    }\n",
              "\n",
              "    .dataframe tbody tr th {\n",
              "        vertical-align: top;\n",
              "    }\n",
              "\n",
              "    .dataframe thead th {\n",
              "        text-align: right;\n",
              "    }\n",
              "</style>\n",
              "<table border=\"1\" class=\"dataframe\">\n",
              "  <thead>\n",
              "    <tr style=\"text-align: right;\">\n",
              "      <th></th>\n",
              "      <th>0</th>\n",
              "    </tr>\n",
              "  </thead>\n",
              "  <tbody>\n",
              "    <tr>\n",
              "      <th>Name</th>\n",
              "      <td>0</td>\n",
              "    </tr>\n",
              "    <tr>\n",
              "      <th>Age</th>\n",
              "      <td>4</td>\n",
              "    </tr>\n",
              "    <tr>\n",
              "      <th>Salary</th>\n",
              "      <td>3</td>\n",
              "    </tr>\n",
              "    <tr>\n",
              "      <th>Department</th>\n",
              "      <td>2</td>\n",
              "    </tr>\n",
              "  </tbody>\n",
              "</table>\n",
              "</div><br><label><b>dtype:</b> int64</label>"
            ]
          },
          "metadata": {},
          "execution_count": 7
        }
      ]
    },
    {
      "cell_type": "markdown",
      "source": [
        "MEAN()"
      ],
      "metadata": {
        "id": "5mgwMyYD5O3b"
      }
    },
    {
      "cell_type": "code",
      "source": [
        "df['Age'].fillna(df['Age'].mean(), inplace=True)\n",
        "print(\"\\nDataset after replacing null values:\\n\", df)\n",
        "print(df.isnull().sum())"
      ],
      "metadata": {
        "colab": {
          "base_uri": "https://localhost:8080/"
        },
        "id": "tLtI9N8I3kvH",
        "outputId": "f48afe38-89a2-462b-8b31-c67385494b59"
      },
      "execution_count": null,
      "outputs": [
        {
          "output_type": "stream",
          "name": "stdout",
          "text": [
            "\n",
            "Dataset after replacing null values:\n",
            "         Name        Age   Salary Department\n",
            "0     Harsha  21.000000   7500.0         HR\n",
            "1      Mouli  23.571429   7500.0         IT\n",
            "2        Sai  20.000000  11250.0         IT\n",
            "3    Krishna  22.000000   7500.0         IT\n",
            "4       Teja  25.000000   7500.0    Finance\n",
            "5     shannu  23.571429  15000.0         TL\n",
            "6   jayaraju  23.571429  11250.0    Editing\n",
            "7     vishnu  10.000000  15000.0         IT\n",
            "8      jnane  23.571429  45000.0    Editing\n",
            "9     IPLsai  33.000000  11250.0         IT\n",
            "10     Monoj  34.000000  30000.0    Finance\n",
            "Name          0\n",
            "Age           0\n",
            "Salary        0\n",
            "Department    0\n",
            "dtype: int64\n"
          ]
        },
        {
          "output_type": "stream",
          "name": "stderr",
          "text": [
            "<ipython-input-13-4df438f333de>:1: FutureWarning: A value is trying to be set on a copy of a DataFrame or Series through chained assignment using an inplace method.\n",
            "The behavior will change in pandas 3.0. This inplace method will never work because the intermediate object on which we are setting values always behaves as a copy.\n",
            "\n",
            "For example, when doing 'df[col].method(value, inplace=True)', try using 'df.method({col: value}, inplace=True)' or df[col] = df[col].method(value) instead, to perform the operation inplace on the original object.\n",
            "\n",
            "\n",
            "  df['Age'].fillna(df['Age'].mean(), inplace=True)\n"
          ]
        }
      ]
    },
    {
      "cell_type": "markdown",
      "source": [
        "MEDIAN()"
      ],
      "metadata": {
        "id": "nAQP3T3v4b9A"
      }
    },
    {
      "cell_type": "code",
      "source": [
        "df['Salary'].fillna(df['Salary'].median(), inplace=True)\n",
        "print(\"\\nDataset after replacing null values:\\n\", df)\n",
        "print(df.isnull().sum())"
      ],
      "metadata": {
        "colab": {
          "base_uri": "https://localhost:8080/"
        },
        "id": "La3_Vxh34HyE",
        "outputId": "665cae25-9c5f-48e5-931a-8e39fb121820"
      },
      "execution_count": null,
      "outputs": [
        {
          "output_type": "stream",
          "name": "stdout",
          "text": [
            "\n",
            "Dataset after replacing null values:\n",
            "         Name        Age   Salary Department\n",
            "0     Harsha  21.000000   7500.0         HR\n",
            "1      Mouli  23.571429   7500.0         IT\n",
            "2        Sai  20.000000  11250.0         IT\n",
            "3    Krishna  22.000000   7500.0         IT\n",
            "4       Teja  25.000000   7500.0    Finance\n",
            "5     shannu  23.571429  15000.0         TL\n",
            "6   jayaraju  23.571429  11250.0    Editing\n",
            "7     vishnu  10.000000  15000.0         IT\n",
            "8      jnane  23.571429  45000.0    Editing\n",
            "9     IPLsai  33.000000  11250.0         IT\n",
            "10     Monoj  34.000000  30000.0    Finance\n",
            "Name          0\n",
            "Age           0\n",
            "Salary        0\n",
            "Department    0\n",
            "dtype: int64\n"
          ]
        },
        {
          "output_type": "stream",
          "name": "stderr",
          "text": [
            "<ipython-input-10-81ff8decf173>:1: FutureWarning: A value is trying to be set on a copy of a DataFrame or Series through chained assignment using an inplace method.\n",
            "The behavior will change in pandas 3.0. This inplace method will never work because the intermediate object on which we are setting values always behaves as a copy.\n",
            "\n",
            "For example, when doing 'df[col].method(value, inplace=True)', try using 'df.method({col: value}, inplace=True)' or df[col] = df[col].method(value) instead, to perform the operation inplace on the original object.\n",
            "\n",
            "\n",
            "  df['Salary'].fillna(df['Salary'].median(), inplace=True)\n"
          ]
        }
      ]
    },
    {
      "cell_type": "markdown",
      "source": [
        "MODE()"
      ],
      "metadata": {
        "id": "n8vgdiwL5IvM"
      }
    },
    {
      "cell_type": "code",
      "source": [
        "df['Department'].fillna(df['Department'].mode()[0], inplace=True)\n",
        "print(\"\\nDataset after replacing null values:\\n\", df)\n",
        "print(df.isnull().sum())"
      ],
      "metadata": {
        "colab": {
          "base_uri": "https://localhost:8080/"
        },
        "id": "S-gzRuaN4rbF",
        "outputId": "895046f3-d2ce-481f-d343-a1c4cac79949"
      },
      "execution_count": null,
      "outputs": [
        {
          "output_type": "stream",
          "name": "stdout",
          "text": [
            "\n",
            "Dataset after replacing null values:\n",
            "         Name        Age   Salary Department\n",
            "0     Harsha  21.000000   7500.0         HR\n",
            "1      Mouli  23.571429   7500.0         IT\n",
            "2        Sai  20.000000  11250.0         IT\n",
            "3    Krishna  22.000000   7500.0         IT\n",
            "4       Teja  25.000000   7500.0    Finance\n",
            "5     shannu  23.571429  15000.0         TL\n",
            "6   jayaraju  23.571429  11250.0    Editing\n",
            "7     vishnu  10.000000  15000.0         IT\n",
            "8      jnane  23.571429  45000.0    Editing\n",
            "9     IPLsai  33.000000  11250.0         IT\n",
            "10     Monoj  34.000000  30000.0    Finance\n",
            "Name          0\n",
            "Age           0\n",
            "Salary        0\n",
            "Department    0\n",
            "dtype: int64\n"
          ]
        }
      ]
    }
  ]
}